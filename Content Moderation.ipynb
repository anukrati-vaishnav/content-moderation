{
 "cells": [
  {
   "cell_type": "code",
   "execution_count": 8,
   "id": "a575c5d1",
   "metadata": {},
   "outputs": [],
   "source": [
    "#Import neccessary libraries\n",
    "import pandas as pd\n",
    "import numpy as np\n",
    "import matplotlib.pyplot as plt\n",
    "import seaborn as sns\n",
    "\n"
   ]
  },
  {
   "cell_type": "code",
   "execution_count": 29,
   "id": "6e57858a",
   "metadata": {},
   "outputs": [
    {
     "name": "stdout",
     "output_type": "stream",
     "text": [
      "                 id                                       comment_text  toxic  \\\n",
      "0  0000997932d777bf  Explanation\\nWhy the edits made under my usern...      0   \n",
      "1  000103f0d9cfb60f  D'aww! He matches this background colour I'm s...      0   \n",
      "2  000113f07ec002fd  Hey man, I'm really not trying to edit war. It...      0   \n",
      "3  0001b41b1c6bb37e  \"\\nMore\\nI can't make any real suggestions on ...      0   \n",
      "4  0001d958c54c6e35  You, sir, are my hero. Any chance you remember...      0   \n",
      "\n",
      "   severe_toxic  obscene  threat  insult  identity_hate  \\\n",
      "0             0        0       0       0              0   \n",
      "1             0        0       0       0              0   \n",
      "2             0        0       0       0              0   \n",
      "3             0        0       0       0              0   \n",
      "4             0        0       0       0              0   \n",
      "\n",
      "                                      input_word_ids  \\\n",
      "0  (101, 27746, 31609, 11809, 24781, 10105, 70971...   \n",
      "1  (101, 141, 112, 56237, 10874, 106, 10357, 1825...   \n",
      "2  (101, 35936, 10817, 117, 146, 112, 181, 30181,...   \n",
      "3  (101, 107, 15946, 146, 10944, 112, 188, 13086,...   \n",
      "4  (101, 11065, 117, 52523, 117, 10301, 15127, 51...   \n",
      "\n",
      "                                          input_mask  \\\n",
      "0  (1, 1, 1, 1, 1, 1, 1, 1, 1, 1, 1, 1, 1, 1, 1, ...   \n",
      "1  (1, 1, 1, 1, 1, 1, 1, 1, 1, 1, 1, 1, 1, 1, 1, ...   \n",
      "2  (1, 1, 1, 1, 1, 1, 1, 1, 1, 1, 1, 1, 1, 1, 1, ...   \n",
      "3  (1, 1, 1, 1, 1, 1, 1, 1, 1, 1, 1, 1, 1, 1, 1, ...   \n",
      "4  (1, 1, 1, 1, 1, 1, 1, 1, 1, 1, 1, 1, 1, 1, 1, ...   \n",
      "\n",
      "                                      all_segment_id  \n",
      "0  (0, 0, 0, 0, 0, 0, 0, 0, 0, 0, 0, 0, 0, 0, 0, ...  \n",
      "1  (0, 0, 0, 0, 0, 0, 0, 0, 0, 0, 0, 0, 0, 0, 0, ...  \n",
      "2  (0, 0, 0, 0, 0, 0, 0, 0, 0, 0, 0, 0, 0, 0, 0, ...  \n",
      "3  (0, 0, 0, 0, 0, 0, 0, 0, 0, 0, 0, 0, 0, 0, 0, ...  \n",
      "4  (0, 0, 0, 0, 0, 0, 0, 0, 0, 0, 0, 0, 0, 0, 0, ...  \n",
      "toxic            21384\n",
      "severe_toxic      1962\n",
      "obscene          12140\n",
      "threat             689\n",
      "insult           11304\n",
      "identity_hate     2117\n",
      "dtype: int64\n"
     ]
    }
   ],
   "source": [
    "# Load the dataset\n",
    "df_train = pd.read_csv(\"toxic-comment-train.csv.zip\")\n",
    "\n",
    "# Preview dataset\n",
    "print(df_train.head())\n",
    "\n",
    "# Check data distribution for toxicity labels\n",
    "toxicity_columns = ['toxic', 'severe_toxic', 'obscene', 'threat', 'insult', 'identity_hate']\n",
    "print(df_train[toxicity_columns].sum())  # Total counts for each label\n"
   ]
  },
  {
   "cell_type": "code",
   "execution_count": 31,
   "id": "0c296350",
   "metadata": {},
   "outputs": [
    {
     "data": {
      "text/html": [
       "<div>\n",
       "<style scoped>\n",
       "    .dataframe tbody tr th:only-of-type {\n",
       "        vertical-align: middle;\n",
       "    }\n",
       "\n",
       "    .dataframe tbody tr th {\n",
       "        vertical-align: top;\n",
       "    }\n",
       "\n",
       "    .dataframe thead th {\n",
       "        text-align: right;\n",
       "    }\n",
       "</style>\n",
       "<table border=\"1\" class=\"dataframe\">\n",
       "  <thead>\n",
       "    <tr style=\"text-align: right;\">\n",
       "      <th></th>\n",
       "      <th>toxic</th>\n",
       "      <th>severe_toxic</th>\n",
       "      <th>obscene</th>\n",
       "      <th>threat</th>\n",
       "      <th>insult</th>\n",
       "      <th>identity_hate</th>\n",
       "    </tr>\n",
       "  </thead>\n",
       "  <tbody>\n",
       "    <tr>\n",
       "      <th>count</th>\n",
       "      <td>223549.000000</td>\n",
       "      <td>223549.000000</td>\n",
       "      <td>223549.000000</td>\n",
       "      <td>223549.000000</td>\n",
       "      <td>223549.000000</td>\n",
       "      <td>223549.000000</td>\n",
       "    </tr>\n",
       "    <tr>\n",
       "      <th>mean</th>\n",
       "      <td>0.095657</td>\n",
       "      <td>0.008777</td>\n",
       "      <td>0.054306</td>\n",
       "      <td>0.003082</td>\n",
       "      <td>0.050566</td>\n",
       "      <td>0.009470</td>\n",
       "    </tr>\n",
       "    <tr>\n",
       "      <th>std</th>\n",
       "      <td>0.294121</td>\n",
       "      <td>0.093272</td>\n",
       "      <td>0.226621</td>\n",
       "      <td>0.055431</td>\n",
       "      <td>0.219110</td>\n",
       "      <td>0.096852</td>\n",
       "    </tr>\n",
       "    <tr>\n",
       "      <th>min</th>\n",
       "      <td>0.000000</td>\n",
       "      <td>0.000000</td>\n",
       "      <td>0.000000</td>\n",
       "      <td>0.000000</td>\n",
       "      <td>0.000000</td>\n",
       "      <td>0.000000</td>\n",
       "    </tr>\n",
       "    <tr>\n",
       "      <th>25%</th>\n",
       "      <td>0.000000</td>\n",
       "      <td>0.000000</td>\n",
       "      <td>0.000000</td>\n",
       "      <td>0.000000</td>\n",
       "      <td>0.000000</td>\n",
       "      <td>0.000000</td>\n",
       "    </tr>\n",
       "    <tr>\n",
       "      <th>50%</th>\n",
       "      <td>0.000000</td>\n",
       "      <td>0.000000</td>\n",
       "      <td>0.000000</td>\n",
       "      <td>0.000000</td>\n",
       "      <td>0.000000</td>\n",
       "      <td>0.000000</td>\n",
       "    </tr>\n",
       "    <tr>\n",
       "      <th>75%</th>\n",
       "      <td>0.000000</td>\n",
       "      <td>0.000000</td>\n",
       "      <td>0.000000</td>\n",
       "      <td>0.000000</td>\n",
       "      <td>0.000000</td>\n",
       "      <td>0.000000</td>\n",
       "    </tr>\n",
       "    <tr>\n",
       "      <th>max</th>\n",
       "      <td>1.000000</td>\n",
       "      <td>1.000000</td>\n",
       "      <td>1.000000</td>\n",
       "      <td>1.000000</td>\n",
       "      <td>1.000000</td>\n",
       "      <td>1.000000</td>\n",
       "    </tr>\n",
       "  </tbody>\n",
       "</table>\n",
       "</div>"
      ],
      "text/plain": [
       "               toxic   severe_toxic        obscene         threat  \\\n",
       "count  223549.000000  223549.000000  223549.000000  223549.000000   \n",
       "mean        0.095657       0.008777       0.054306       0.003082   \n",
       "std         0.294121       0.093272       0.226621       0.055431   \n",
       "min         0.000000       0.000000       0.000000       0.000000   \n",
       "25%         0.000000       0.000000       0.000000       0.000000   \n",
       "50%         0.000000       0.000000       0.000000       0.000000   \n",
       "75%         0.000000       0.000000       0.000000       0.000000   \n",
       "max         1.000000       1.000000       1.000000       1.000000   \n",
       "\n",
       "              insult  identity_hate  \n",
       "count  223549.000000  223549.000000  \n",
       "mean        0.050566       0.009470  \n",
       "std         0.219110       0.096852  \n",
       "min         0.000000       0.000000  \n",
       "25%         0.000000       0.000000  \n",
       "50%         0.000000       0.000000  \n",
       "75%         0.000000       0.000000  \n",
       "max         1.000000       1.000000  "
      ]
     },
     "execution_count": 31,
     "metadata": {},
     "output_type": "execute_result"
    }
   ],
   "source": [
    "df_train.describe()"
   ]
  },
  {
   "cell_type": "code",
   "execution_count": 32,
   "id": "a5963abb",
   "metadata": {},
   "outputs": [
    {
     "data": {
      "text/plain": [
       "(223549, 11)"
      ]
     },
     "execution_count": 32,
     "metadata": {},
     "output_type": "execute_result"
    }
   ],
   "source": [
    "df_train.shape\n"
   ]
  },
  {
   "cell_type": "code",
   "execution_count": 33,
   "id": "dea87afc",
   "metadata": {},
   "outputs": [
    {
     "data": {
      "text/plain": [
       "id                0\n",
       "comment_text      0\n",
       "toxic             0\n",
       "severe_toxic      0\n",
       "obscene           0\n",
       "threat            0\n",
       "insult            0\n",
       "identity_hate     0\n",
       "input_word_ids    0\n",
       "input_mask        0\n",
       "all_segment_id    0\n",
       "dtype: int64"
      ]
     },
     "execution_count": 33,
     "metadata": {},
     "output_type": "execute_result"
    }
   ],
   "source": [
    "# checking if null values are present or not\n",
    "\n",
    "df_train.isnull().sum()"
   ]
  },
  {
   "cell_type": "code",
   "execution_count": 34,
   "id": "9ae8bc5e",
   "metadata": {},
   "outputs": [
    {
     "data": {
      "text/plain": [
       "0    Explanation\\nWhy the edits made under my usern...\n",
       "1    D'aww! He matches this background colour I'm s...\n",
       "2    Hey man, I'm really not trying to edit war. It...\n",
       "3    \"\\nMore\\nI can't make any real suggestions on ...\n",
       "4    You, sir, are my hero. Any chance you remember...\n",
       "Name: comment_text, dtype: object"
      ]
     },
     "execution_count": 34,
     "metadata": {},
     "output_type": "execute_result"
    }
   ],
   "source": [
    "df_train['comment_text'].head()"
   ]
  },
  {
   "cell_type": "code",
   "execution_count": 35,
   "id": "735c62de",
   "metadata": {},
   "outputs": [
    {
     "data": {
      "text/plain": [
       "0    0\n",
       "1    0\n",
       "2    0\n",
       "3    0\n",
       "4    0\n",
       "Name: toxic, dtype: int64"
      ]
     },
     "execution_count": 35,
     "metadata": {},
     "output_type": "execute_result"
    }
   ],
   "source": [
    "df_train['toxic'].head()"
   ]
  },
  {
   "cell_type": "code",
   "execution_count": 36,
   "id": "96e542e1",
   "metadata": {},
   "outputs": [
    {
     "name": "stdout",
     "output_type": "stream",
     "text": [
      "Total comment: 223549\n",
      "Toxic comments: 22468\n",
      "Toxicity Prevalence: 10.05%\n"
     ]
    }
   ],
   "source": [
    "#Compute the percentage of toxic comments in the dataset\n",
    "# Total comments\n",
    "total_comments = len(df)\n",
    "print(f\"Total comment: {total_comments}\") #totlal number of rows\n",
    "\n",
    "# Toxic comments (at least one toxicity label is 1)\n",
    "df_train['is_toxic'] = df[toxicity_columns].sum(axis=1) > 0\n",
    "toxic_comments = df['is_toxic'].sum()\n",
    "print(f\"Toxic comments: {toxic_comments}\") \n",
    "\n",
    "# Toxicity prevalence\n",
    "toxicity_prevalence = (toxic_comments / total_comments) * 100\n",
    "print(f\"Toxicity Prevalence: {toxicity_prevalence:.2f}%\")\n"
   ]
  },
  {
   "cell_type": "code",
   "execution_count": 21,
   "id": "80eb7635",
   "metadata": {},
   "outputs": [
    {
     "name": "stdout",
     "output_type": "stream",
     "text": [
      "Estimated Manual Moderation Cost: $2246.80\n"
     ]
    }
   ],
   "source": [
    "#Estimate Manual Moderation Costs\n",
    "#Assume a cost per comment for manual moderation and calculate the total cost for handling toxic comments manually.\n",
    "\n",
    "# Assumed cost per comment for manual moderation\n",
    "cost_per_comment = 0.10  # Adjust this value as needed\n",
    "\n",
    "# Manual moderation cost\n",
    "manual_moderation_cost = toxic_comments * cost_per_comment\n",
    "print(f\"Estimated Manual Moderation Cost: ${manual_moderation_cost:.2f}\")"
   ]
  },
  {
   "cell_type": "code",
   "execution_count": 22,
   "id": "c12d0588",
   "metadata": {},
   "outputs": [
    {
     "name": "stdout",
     "output_type": "stream",
     "text": [
      "Estimated Automated Moderation Cost: $11470.98\n"
     ]
    }
   ],
   "source": [
    "#Estimate Costs for Automated Moderation Include development, deployment, and operational costs for an AI solution.\n",
    "\n",
    "\n",
    "# Assumed costs for an automated moderation system\n",
    "development_cost = 5000  # One-time cost\n",
    "deployment_cost = 2000   # One-time cost\n",
    "operational_cost_per_comment = 0.02  # Cost per comment moderated by the model\n",
    "\n",
    "# Automated moderation cost\n",
    "automated_moderation_cost = development_cost + deployment_cost + (total_comments * operational_cost_per_comment)\n",
    "print(f\"Estimated Automated Moderation Cost: ${automated_moderation_cost:.2f}\")"
   ]
  },
  {
   "cell_type": "code",
   "execution_count": 23,
   "id": "23f32c69",
   "metadata": {},
   "outputs": [
    {
     "name": "stdout",
     "output_type": "stream",
     "text": [
      "Potential Cost Savings with Automation: $-9224.18\n"
     ]
    }
   ],
   "source": [
    "#Perform Cost-Benefit Analysis Compare manual and automated moderation costs to determine potential savings.\n",
    "\n",
    "# Cost savings\n",
    "cost_savings = manual_moderation_cost - automated_moderation_cost\n",
    "print(f\"Potential Cost Savings with Automation: ${cost_savings:.2f}\")"
   ]
  },
  {
   "cell_type": "code",
   "execution_count": 24,
   "id": "84037a24",
   "metadata": {},
   "outputs": [
    {
     "name": "stdout",
     "output_type": "stream",
     "text": [
      "Confusion Matrix:\n",
      " [[170756  30325]\n",
      " [ 19038   3430]]\n",
      "Classification Report:\n",
      "               precision    recall  f1-score   support\n",
      "\n",
      "       False       0.90      0.85      0.87    201081\n",
      "        True       0.10      0.15      0.12     22468\n",
      "\n",
      "    accuracy                           0.78    223549\n",
      "   macro avg       0.50      0.50      0.50    223549\n",
      "weighted avg       0.82      0.78      0.80    223549\n",
      "\n"
     ]
    }
   ],
   "source": [
    "#Risk Assessment-Evaluate risks associated with automation, such as false positives and negatives, using a confusion matrix from model predictions.\n",
    "\n",
    "from sklearn.metrics import confusion_matrix, classification_report\n",
    "\n",
    "# Assume `y_true` (actual labels) and `y_pred` (predicted labels) are available\n",
    "# Replace with actual data or model predictions\n",
    "y_true = df_train['is_toxic']\n",
    "y_pred = np.random.choice([0, 1], size=len(y_true), p=[0.85, 0.15])  # Example predictions\n",
    "\n",
    "# Confusion matrix\n",
    "conf_matrix = confusion_matrix(y_true, y_pred)\n",
    "print(\"Confusion Matrix:\\n\", conf_matrix)\n",
    "\n",
    "# Classification report\n",
    "print(\"Classification Report:\\n\", classification_report(y_true, y_pred))"
   ]
  },
  {
   "cell_type": "code",
   "execution_count": 25,
   "id": "5d10bc25",
   "metadata": {},
   "outputs": [
    {
     "data": {
      "image/png": "[encoded data removed]",
      "text/plain": [
       "<Figure size 640x480 with 1 Axes>"
      ]
     },
     "metadata": {},
     "output_type": "display_data"
    }
   ],
   "source": [
    "#Visualize Results-Use charts to present data distribution, cost comparisons, and model performance.\n",
    "\n",
    "# Visualizing cost comparison\n",
    "categories = ['Manual Moderation', 'Automated Moderation']\n",
    "costs = [manual_moderation_cost, automated_moderation_cost]\n",
    "\n",
    "plt.bar(categories, costs, color=['red', 'green'])\n",
    "plt.title(\"Cost Comparison: Manual vs Automated Moderation\")\n",
    "plt.ylabel(\"Cost (USD)\")\n",
    "plt.show()"
   ]
  },
  {
   "cell_type": "code",
   "execution_count": null,
   "id": "03c0b03d",
   "metadata": {},
   "outputs": [],
   "source": [
    "#Deploying ML Model \n"
   ]
  },
  {
   "cell_type": "code",
   "execution_count": 37,
   "id": "2f9095a9",
   "metadata": {},
   "outputs": [
    {
     "data": {
      "image/png": "[encoded data removed]",
      "text/plain": [
       "<Figure size 1000x800 with 1 Axes>"
      ]
     },
     "metadata": {},
     "output_type": "display_data"
    }
   ],
   "source": [
    "types = df_train[['severe_toxic', 'obscene', 'threat', 'insult', 'identity_hate']].sum()\n",
    "plt.figure(figsize=(10, 8))\n",
    "plt.pie(types, labels=types.index, autopct='%1.1f%%', startangle=140, colors=['red', 'orange', 'yellow', 'green', 'blue'])\n",
    "plt.title('Distribution of Toxic Comment Types')\n",
    "plt.show()"
   ]
  },
  {
   "cell_type": "code",
   "execution_count": null,
   "id": "9dff649b",
   "metadata": {},
   "outputs": [],
   "source": []
  }
 ],
 "metadata": {
  "kernelspec": {
   "display_name": "Python 3 (ipykernel)",
   "language": "python",
   "name": "python3"
  },
  "language_info": {
   "codemirror_mode": {
    "name": "ipython",
    "version": 3
   },
   "file_extension": ".py",
   "mimetype": "text/x-python",
   "name": "python",
   "nbconvert_exporter": "python",
   "pygments_lexer": "ipython3",
   "version": "3.11.5"
  }
 },
 "nbformat": 4,
 "nbformat_minor": 5
}
